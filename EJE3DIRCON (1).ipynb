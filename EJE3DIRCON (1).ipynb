{
 "cells": [
  {
   "cell_type": "markdown",
   "id": "d0a03a90",
   "metadata": {},
   "source": [
    "# Método de Direcciones conjugadas"
   ]
  },
  {
   "cell_type": "code",
   "execution_count": 1,
   "id": "b5395943",
   "metadata": {},
   "outputs": [
    {
     "data": {
      "image/png": "[encoded data removed]",
      "text/plain": [
       "<Figure size 576x432 with 1 Axes>"
      ]
     },
     "metadata": {
      "needs_background": "light"
     },
     "output_type": "display_data"
    }
   ],
   "source": [
    "import numpy as np\n",
    "import matplotlib.pyplot as plt\n",
    "\n",
    "# Definimos la función\n",
    "def f(x, y):\n",
    "    return -(4*x**2) - (57*y**2) + 4*x*y - 8*x + 10*y - 2\n",
    "\n",
    "# Definimos el gradiente de la función\n",
    "def grad_f(x, y):\n",
    "    return np.array([-8*x + 4*y - 8, -114*y + 4*x + 10])\n",
    "\n",
    "# Definimos la base para R^2\n",
    "B = np.array([[-10, 8], [6, 2]])\n",
    "\n",
    "# Definimos el método de direcciones conjugadas\n",
    "def conjugate_directions(point, max_iter=1000, tol=1e-6):\n",
    "    # Inicializamos los vectores de búsqueda y gradiente\n",
    "    d = -grad_f(point[0], point[1])\n",
    "    g = d\n",
    "    # Inicializamos el contador de iteraciones\n",
    "    iter = 0\n",
    "    # Inicializamos el historial de puntos para graficar la trayectoria\n",
    "    path = [point]\n",
    "    # Iteraramos hasta alcanzar el máximo de iteraciones o la tolerancia\n",
    "    while iter < max_iter and np.linalg.norm(g) > tol:\n",
    "        # Calculamos el tamaño de paso óptimo en la dirección de búsqueda\n",
    "        alpha = np.dot(g, g) / np.dot(np.dot(d, B), np.dot(grad_f(point[0], point[1]), B))\n",
    "        # Actualizaamos el punto y el gradiente\n",
    "        point = point + alpha * np.dot(d, B)\n",
    "        g_new = np.dot(grad_f(point[0], point[1]), B)\n",
    "        # Calculamos el coeficiente de corrección beta\n",
    "        beta = np.dot(g_new, g_new) / np.dot(g, g)\n",
    "        # Actualizamos el vector de búsqueda\n",
    "        d = -g_new + beta * d\n",
    "        g = g_new\n",
    "        # Actualizamos el contador de iteraciones y el historial de puntos\n",
    "        iter += 1\n",
    "        path.append(point)\n",
    "    \n",
    "    return point, path\n",
    "\n",
    "# Definimos los parámetros del método\n",
    "point = np.array([2, -5]) # Punto semilla\n",
    "max_iter = 1000 # Máximo de iteraciones\n",
    "tol = 1e-6 # Tolerancia\n",
    "\n",
    "# Ejecutamos el método de direcciones conjugadas\n",
    "critical_point, path = conjugate_directions(point, max_iter=max_iter, tol=tol)\n",
    "\n",
    "# Creaamos la figura\n",
    "fig, ax = plt.subplots(figsize=(8, 6))\n",
    "\n",
    "# Creamos la malla de puntos para graficar la función\n",
    "x_range = np.linspace(-10, 10, 100)\n",
    "y_range = np.linspace(-10, 10, 100)\n",
    "X, Y = np.meshgrid(x_range, y_range)\n",
    "Z = f(X, Y)\n",
    "\n",
    "# Graficamos la función\n",
    "ax.contour(X, Y, Z, levels=20, cmap='coolwarm')\n",
    "\n",
    "# Graficamos la trayectoria\n",
    "ax.plot([p[0] for p in path], [p[1] for p in path], 'bo-')\n",
    "\n",
    "# Para mostrar el punto crítico en la gráfica\n",
    "ax.plot(critical_point[0], critical_point[1], 'ro')\n",
    "\n",
    "plt.show()\n"
   ]
  },
  {
   "cell_type": "code",
   "execution_count": null,
   "id": "bc0704e6",
   "metadata": {},
   "outputs": [],
   "source": []
  }
 ],
 "metadata": {
  "kernelspec": {
   "display_name": "Python 3 (ipykernel)",
   "language": "python",
   "name": "python3"
  },
  "language_info": {
   "codemirror_mode": {
    "name": "ipython",
    "version": 3
   },
   "file_extension": ".py",
   "mimetype": "text/x-python",
   "name": "python",
   "nbconvert_exporter": "python",
   "pygments_lexer": "ipython3",
   "version": "3.9.12"
  }
 },
 "nbformat": 4,
 "nbformat_minor": 5
}
