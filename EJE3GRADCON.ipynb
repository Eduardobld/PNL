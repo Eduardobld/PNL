{
 "cells": [
  {
   "cell_type": "markdown",
   "id": "cfb1f9c2",
   "metadata": {},
   "source": [
    "# Método del Gradiente Conjugado\n"
   ]
  },
  {
   "cell_type": "code",
   "execution_count": 3,
   "id": "33ae3916",
   "metadata": {},
   "outputs": [
    {
     "data": {
      "image/png": "[encoded data removed]",
      "text/plain": [
       "<Figure size 576x432 with 1 Axes>"
      ]
     },
     "metadata": {
      "needs_background": "light"
     },
     "output_type": "display_data"
    }
   ],
   "source": [
    "import numpy as np\n",
    "import matplotlib.pyplot as plt\n",
    "\n",
    "# Definir la función\n",
    "def f(x, y):\n",
    "    return -(4*x**2) - (57*y**2) + 4*x*y - 8*x + 10*y - 2\n",
    "\n",
    "# Definir el gradiente de la función\n",
    "def grad_f(x, y):\n",
    "    return np.array([-8*x + 4*y - 8, -114*y + 4*x + 10])\n",
    "\n",
    "# Definir el método del gradiente conjugado\n",
    "def conjugate_gradient(point, max_iter=1000, tol=1e-6):\n",
    "    # Inicializar los vectores de búsqueda y gradiente\n",
    "    d = -grad_f(point[0], point[1])\n",
    "    g = d\n",
    "    # Inicializar el contador de iteraciones\n",
    "    iter = 0\n",
    "    # Inicializar el historial de puntos para graficar la trayectoria\n",
    "    path = [point]\n",
    "    # Iterar hasta alcanzar el máximo de iteraciones o la tolerancia\n",
    "    while iter < max_iter and np.linalg.norm(g) > tol:\n",
    "        # Calcular el tamaño de paso óptimo\n",
    "        alpha = np.dot(g, g) / np.dot(d, grad_f(point[0], point[1]))\n",
    "        # Actualizar el punto y el gradiente\n",
    "        point = point + alpha * d\n",
    "        g_new = grad_f(point[0], point[1])\n",
    "        # Calcular el coeficiente de corrección beta\n",
    "        beta = np.dot(g_new, g_new) / np.dot(g, g)\n",
    "        # Actualizar el vector de búsqueda\n",
    "        d = -g_new + beta * d\n",
    "        g = g_new\n",
    "        # Actualizar el contador de iteraciones y el historial de puntos\n",
    "        iter += 1\n",
    "        path.append(point)\n",
    "    # Devolver el punto crítico y la trayectoria\n",
    "    return point, path\n",
    "\n",
    "# Definir los parámetros del método\n",
    "point = np.array([2, -5]) # Punto semilla\n",
    "max_iter = 1000 # Máximo de iteraciones\n",
    "tol = 1e-6 # Tolerancia\n",
    "\n",
    "# Ejecutar el método del gradiente conjugado\n",
    "critical_point, path = conjugate_gradient(point, max_iter=max_iter, tol=tol)\n",
    "\n",
    "# Crear la figura\n",
    "fig, ax = plt.subplots(figsize=(8, 6))\n",
    "\n",
    "# Crear la malla de puntos para graficar la función\n",
    "x_range = np.linspace(-10, 10, 100)\n",
    "y_range = np.linspace(-10, 10, 100)\n",
    "X, Y = np.meshgrid(x_range, y_range)\n",
    "Z = f(X, Y)\n",
    "\n",
    "# Graficar la función\n",
    "ax.contour(X, Y, Z, levels=20, cmap='coolwarm')\n",
    "\n",
    "# Graficar la trayectoria\n",
    "ax.plot([p[0] for p in path], [p[1] for p in path], 'bo-')\n",
    "\n",
    "# Mostrar el punto crítico en la gráfica\n",
    "ax.plot(critical_point[0], critical_point[1], 'ro')\n",
    "\n",
    "# Mostrar la gráfica\n",
    "plt.show()\n"
   ]
  },
  {
   "cell_type": "code",
   "execution_count": null,
   "id": "f82ffbb3",
   "metadata": {},
   "outputs": [],
   "source": []
  }
 ],
 "metadata": {
  "kernelspec": {
   "display_name": "Python 3 (ipykernel)",
   "language": "python",
   "name": "python3"
  },
  "language_info": {
   "codemirror_mode": {
    "name": "ipython",
    "version": 3
   },
   "file_extension": ".py",
   "mimetype": "text/x-python",
   "name": "python",
   "nbconvert_exporter": "python",
   "pygments_lexer": "ipython3",
   "version": "3.9.12"
  }
 },
 "nbformat": 4,
 "nbformat_minor": 5
}
